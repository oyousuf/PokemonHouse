{
 "cells": [
  {
   "cell_type": "code",
   "execution_count": 88,
   "id": "subsequent-saskatchewan",
   "metadata": {},
   "outputs": [
    {
     "name": "stdout",
     "output_type": "stream",
     "text": [
      "Welcome to the Pokemon House. Your job is to find Pikachu! Enter start on command\n"
     ]
    },
    {
     "name": "stdin",
     "output_type": "stream",
     "text": [
      "(Cmd)  quit\n"
     ]
    },
    {
     "name": "stdout",
     "output_type": "stream",
     "text": [
      "Thank you for playing!\n"
     ]
    }
   ],
   "source": [
    "import cmd\n",
    "import yaml\n",
    "\n",
    "\n",
    "class ParseConfig:\n",
    "    rooms = []\n",
    "    doors = []\n",
    "    items = []\n",
    "    start_p = []\n",
    "#     def __init__(self, rooms=None, doors=None, items=None, start_p=None):\n",
    "#         self.rooms = rooms\n",
    "#         self.doors = doors\n",
    "#         self.items = items\n",
    "#         self.start_p = start_p\n",
    "    @classmethod\n",
    "    def yaml_open(cls):\n",
    "        with open('config.yaml') as f:\n",
    "            conf = yaml.load_all(f, Loader=yaml.FullLoader)\n",
    "            conf = list(conf)\n",
    "\n",
    "        cls.rooms = conf[0]['Rooms']\n",
    "        cls.doors = conf[1]['Doors']\n",
    "        cls.items = conf[2]['Items']\n",
    "        cls.start_p = conf[3]['Starting_position']\n",
    "        \n",
    "    def add_room(self):\n",
    "        if self.rooms:\n",
    "            for i in self.rooms:\n",
    "                Room(i['name'], i['description'])\n",
    "            \n",
    "######################################################################################################\n",
    "\n",
    "class Room:\n",
    "    def __init__(self, name=\"Bedroom\", description=\"This is a bedroom.\"):\n",
    "        self.name = name\n",
    "        self.description = description\n",
    "        \n",
    "        \n",
    "    def exit(self, direction):\n",
    "        \n",
    "        for i in ParseConfig.doors:\n",
    "            if i['from_room'] == self.name and i['from_'] == direction:\n",
    "                if i['state'] == 'open':\n",
    "                    return [0, i['to_room']]  #'Library'\n",
    "                elif i['state'] == 'closed':\n",
    "                    print(\"This room is closed. Enter open if you want to open the door.\")\n",
    "                    return [1, i['to_room']]\n",
    "                else:\n",
    "                    print('This door is locked.')\n",
    "                    return [2, 'to_room']\n",
    "                    \n",
    "        else:\n",
    "            return None\n",
    "        \n",
    "    def get_room(self, newroom):\n",
    "        for i in ParseConfig.rooms:\n",
    "            if i['name'] == newroom:\n",
    "                a = Room(i['name'], i['description'])\n",
    "        return a \n",
    "\n",
    "    def up(self):\n",
    "        return self.exit('up')\n",
    "\n",
    "    def down(self):\n",
    "        return self.exit('down')\n",
    "\n",
    "    def left(self):\n",
    "        return self.exit('left')\n",
    "\n",
    "    def right(self):\n",
    "        return self.exit('right')\n",
    "\n",
    "######################################################################################################\n",
    "\n",
    "class Door:\n",
    "    def __init__(self, name, _from, from_room, to, to_room, state):\n",
    "        self.name = name\n",
    "        self._from = _from\n",
    "        self.from_room = from_room\n",
    "        self.to = to\n",
    "        self.to_room = to_room\n",
    "        self.state = state\n",
    "        \n",
    "        \n",
    "#     def open_door(self, room)\n",
    "\n",
    "######################################################################################################\n",
    "\n",
    "class Items(Room):\n",
    "    def __init__(self, name, room, usage, action):\n",
    "        self.name = name\n",
    "        self.room = room\n",
    "        self.usage = usage\n",
    "        self.action = action\n",
    "    \n",
    "    def pickup(self):\n",
    "        pass\n",
    "    \n",
    "    def use(self):\n",
    "        pass\n",
    "    \n",
    "    def drop(self):\n",
    "        pass\n",
    "\n",
    "###################################################################################################### \n",
    "\n",
    "class Player:\n",
    "    def __init__(self):\n",
    "        self.name = 'Jiwoo'\n",
    "        self.inventory = []\n",
    "        \n",
    "    def take_item(self, item, location):\n",
    "        for i in ParseConfig.items:\n",
    "            if i['place'] == location:\n",
    "                a = i\n",
    "\n",
    "        if item not in self.inventory: \n",
    "            if a['name'] ==  item:\n",
    "                if a['usage']=='TAKE' or a['usage'] =='USE':\n",
    "                    self.inventory.append(item)\n",
    "                    print(f\"The item {item} has been added to your inventory!\")\n",
    "            else:\n",
    "                print(f\"{item} is not in this room. \")\n",
    "        else:\n",
    "            print(f\"{item} is already in your inventory.\")\n",
    "            \n",
    "            \n",
    "    def drop_item(self, item):\n",
    "        if item in self.inventory:\n",
    "            self.inventory.remove(item)\n",
    "            print(f'You dropped {item}!. ')\n",
    "        else:\n",
    "            print(f\"Nothing to drop.\")\n",
    "            \n",
    "            \n",
    "            \n",
    "    def show_inventory(self):\n",
    "        if self.inventory:\n",
    "            print(f'You have: {\", \".join(self.inventory)}')\n",
    "        else:\n",
    "            print(\"You have nothing yet.\")\n",
    "\n",
    "\n",
    "\n",
    "###################################################################################################### \n",
    "        \n",
    "class Game(cmd.Cmd):\n",
    "    def __init__(self):\n",
    "        cmd.Cmd.__init__(self)\n",
    "        self.player = Player()\n",
    "        self.loc = Room.get_room(self, ParseConfig.start_p[0]['place'])\n",
    "        self.welcome()\n",
    "        \n",
    "        \n",
    "    def welcome(self):\n",
    "        print(f'Welcome to the Pokemon House. Your job is to find Pikachu! Enter start on command')\n",
    "\n",
    "        \n",
    "    def move(self, dir):\n",
    "        newroom = self.loc.exit(dir)\n",
    "        #print(f'newroom is {newroom}')\n",
    "        if newroom is None:\n",
    "            print(\"You can't go that way. Try another direction.\")\n",
    "        \n",
    "        elif newroom[0] == 1: # closed\n",
    "            print('This room is closed. Enter open to open the door.')\n",
    "        \n",
    "        elif newroom[0] == 2: # locked\n",
    "            if 'key' in self.player.inventory:\n",
    "                print(\"You have a key. The door is open.\")\n",
    "                self.loc = Room.get_room(self,newroom[1])\n",
    "                self.look()\n",
    "                \n",
    "            else:\n",
    "                print(\"you need a key to open the door.\")\n",
    "\n",
    "        else:\n",
    "            self.loc = Room.get_room(self,newroom)\n",
    "            self.look()\n",
    "            \n",
    "    \n",
    "    def open(self):\n",
    "        if self.loc.name in ['Bathroom']\n",
    "\n",
    "            \n",
    "    def take(self, item):\n",
    "        location = self.loc.name\n",
    "        self.player.take_item(item, location)\n",
    "\n",
    "        \n",
    "        \n",
    "    def look(self):\n",
    "        #print(self.loc.name)\n",
    "        print(\"\")\n",
    "        print(self.loc.description)\n",
    "        \n",
    "        \n",
    "    def do_go(self, args):        \n",
    "\n",
    "        if args == 'up1' or args == 'u1':\n",
    "            self.move('up1')\n",
    "            \n",
    "        elif args == 'up2' or args ==  'u2':\n",
    "            self.move('up2')\n",
    "            \n",
    "        elif args == 'up' or args ==  'u':\n",
    "            self.move('up')\n",
    "            \n",
    "        elif args == 'down' or args ==  'd':\n",
    "            self.move('down')\n",
    "            \n",
    "        elif args == 'left' or args ==  'l':\n",
    "            self.move('left')\n",
    "    \n",
    "        elif args == 'right' or args ==  'r':\n",
    "            self.move('right')\n",
    "            \n",
    "        else:\n",
    "            print(\"Command is not interpreted.\")\n",
    "\n",
    "        \n",
    "    def do_take(self, args):\n",
    "        self.take(args)\n",
    "    \n",
    "    \n",
    "    def do_open(self, args):\n",
    "        self.open()\n",
    "        \n",
    "        \n",
    "    def do_start(self, args):\n",
    "        self.look()\n",
    "    \n",
    "    \n",
    "    def do_inventory(self, args):\n",
    "        self.player.show_inventory()\n",
    "   \n",
    "\n",
    "    def do_quit(self, args):\n",
    "        print(\"Thank you for playing!\")\n",
    "        return True\n",
    "    \n",
    "    \n",
    "if __name__ == \"__main__\":\n",
    "    parse = ParseConfig()\n",
    "    parse.yaml_open()\n",
    "    g = Game()\n",
    "    g.cmdloop()"
   ]
  },
  {
   "cell_type": "code",
   "execution_count": 72,
   "id": "educated-family",
   "metadata": {},
   "outputs": [
    {
     "name": "stdout",
     "output_type": "stream",
     "text": [
      "{'name': 'key', 'description': 'This is a key to open a door.', 'place': 'Living_room', 'usage': 'USE', 'action': 'unlock'}\n",
      "{'name': 'carpet', 'description': 'This is a carpet. There is something under the carpet.', 'place': 'Living_room', 'usage': 'MOVE', 'action': 'None'}\n",
      "{'name': 'statue_of_Aphrodite', 'description': 'A marbel statue of the ancient Greek goddess of Love, Aphrodite.', 'place': 'Library', 'usage': 'STATIONARY', 'action': 'NONE'}\n",
      "{'name': 'stone', 'description': 'A shiny stone that has a lightning bolt on it.', 'place': 'Bathroom', 'usage': 'TAKE', 'action': 'NONE'}\n",
      "{'name': 'teleporter', 'description': \"A teleporter that looks unstable and should or shouldn't be handled with care ;).\", 'place': 'Garage', 'usage': 'USE', 'action': 'shake'}\n"
     ]
    }
   ],
   "source": [
    "for i in ParseConfig.items:\n",
    "    print (i)"
   ]
  },
  {
   "cell_type": "code",
   "execution_count": null,
   "id": "exposed-garden",
   "metadata": {},
   "outputs": [],
   "source": [
    "Room.__dict__"
   ]
  },
  {
   "cell_type": "code",
   "execution_count": null,
   "id": "uniform-construction",
   "metadata": {},
   "outputs": [],
   "source": [
    "a= ParseConfig()\n",
    "a.yaml_open()\n"
   ]
  },
  {
   "cell_type": "code",
   "execution_count": 12,
   "id": "technological-annex",
   "metadata": {},
   "outputs": [
    {
     "data": {
      "text/plain": [
       "{'name': 'carpet',\n",
       " 'description': 'This is a carpet. There is something under the carpet.',\n",
       " 'place': 'Living_room',\n",
       " 'usage': 'MOVE',\n",
       " 'action': 'None'}"
      ]
     },
     "execution_count": 12,
     "metadata": {},
     "output_type": "execute_result"
    }
   ],
   "source": [
    "ParseConfig.items[1]"
   ]
  },
  {
   "cell_type": "code",
   "execution_count": 190,
   "id": "imposed-riding",
   "metadata": {},
   "outputs": [
    {
     "data": {
      "text/plain": [
       "[{'name': 'Hall', 'description': 'This is main Hall.'},\n",
       " {'name': 'Kitchen',\n",
       "  'description': 'This is Kitchen. Easter Eggs are on the table.'},\n",
       " {'name': 'Living_room',\n",
       "  'description': 'This is living room. TV is still on.'},\n",
       " {'name': 'Bedroom', 'description': 'This is bedroom. Bed looks messy.'},\n",
       " {'name': 'Bathroom', 'description': 'This is bathroom.'},\n",
       " {'name': 'Garage', 'description': 'This is garage.'},\n",
       " {'name': 'Laundry', 'description': 'This is laudry room.'},\n",
       " {'name': 'Pantry', 'description': 'This is pantry.'},\n",
       " {'name': 'Library', 'description': 'This is library.'}]"
      ]
     },
     "execution_count": 190,
     "metadata": {},
     "output_type": "execute_result"
    }
   ],
   "source": [
    "a.rooms"
   ]
  },
  {
   "cell_type": "code",
   "execution_count": 129,
   "id": "norman-humor",
   "metadata": {},
   "outputs": [],
   "source": [
    "import yaml \n",
    "with open('config.yaml') as f:\n",
    "    conf = yaml.load_all(f, Loader=yaml.FullLoader)\n",
    "    conf = list(conf)\n",
    "\n",
    "rooms = conf[0]['Rooms']\n",
    "doors = conf[1]['Doors']\n",
    "items = conf[2]['Items']\n",
    "start_p = conf[3]['Starting_position']\n",
    "    \n"
   ]
  },
  {
   "cell_type": "code",
   "execution_count": 137,
   "id": "short-enlargement",
   "metadata": {},
   "outputs": [
    {
     "name": "stdout",
     "output_type": "stream",
     "text": [
      "{'name': 'Bedroom', 'description': 'This is bedroom. Bed looks messy.'}\n"
     ]
    }
   ],
   "source": [
    "for i in rooms:\n",
    "    if i['name'] == start_p[0]['place']:\n",
    "        print(i)"
   ]
  },
  {
   "cell_type": "code",
   "execution_count": 121,
   "id": "circular-summary",
   "metadata": {},
   "outputs": [
    {
     "data": {
      "text/plain": [
       "'Kitchen'"
      ]
     },
     "execution_count": 121,
     "metadata": {},
     "output_type": "execute_result"
    }
   ],
   "source": [
    "conf[0]['Rooms'][1]"
   ]
  },
  {
   "cell_type": "code",
   "execution_count": 54,
   "id": "peaceful-collect",
   "metadata": {},
   "outputs": [],
   "source": [
    "\n",
    "with open(\"house_description.txt\") as file:\n",
    "    rooms = []\n",
    "    doors = []\n",
    "    items = []\n",
    "    starting_point = ''\n",
    "    for line in file:\n",
    "            line = line.partition('#')[0]\n",
    "            line = line.rstrip()\n",
    "            line = line.split(' ')\n",
    "            if line[0] == 'room':\n",
    "                rooms.append(line[1])\n",
    "                rooms.append(\" \".join(line[2:]))\n",
    "                #rooms.append(Rooms(line[1]))\n",
    "            if line[0] == 'door':\n",
    "                #line[1] = line[1].split('-')\n",
    "                doors.append(line[1:])\n",
    "            if line[0] == 'item':\n",
    "                items.append(line[1:])\n",
    "            if line[0] == 'start':\n",
    "                starting_point = line[1]\n"
   ]
  },
  {
   "cell_type": "code",
   "execution_count": 56,
   "id": "reserved-bottom",
   "metadata": {},
   "outputs": [],
   "source": []
  },
  {
   "cell_type": "code",
   "execution_count": 205,
   "id": "metallic-mercy",
   "metadata": {},
   "outputs": [],
   "source": [
    "import sys\n",
    "import yaml"
   ]
  },
  {
   "cell_type": "code",
   "execution_count": 210,
   "id": "certain-drove",
   "metadata": {},
   "outputs": [],
   "source": [
    "class Rooms:\n",
    "    def __init__(self, name=None, description=None):\n",
    "        self.name = name\n",
    "        self.description = description"
   ]
  },
  {
   "cell_type": "code",
   "execution_count": 212,
   "id": "forward-province",
   "metadata": {},
   "outputs": [],
   "source": [
    "import yaml \n",
    "with open('config.yaml') as f:\n",
    "    conf = yaml.load_all(f, Loader=yaml.FullLoader)\n",
    "    conf = list(conf)\n",
    "\n",
    "rooms = conf[0]['Rooms']\n",
    "doors = conf[1]['Doors']\n",
    "items = conf[2]['Items']\n",
    "start_p = conf[3]['Starting_position']\n"
   ]
  },
  {
   "cell_type": "code",
   "execution_count": 214,
   "id": "recreational-bundle",
   "metadata": {},
   "outputs": [
    {
     "name": "stdout",
     "output_type": "stream",
     "text": [
      "{'name': 'Hall', 'description': 'This is main Hall.'}\n",
      "{'name': 'Kitchen', 'description': 'This is Kitchen. Easter Eggs are on the table.'}\n",
      "{'name': 'Living_room', 'description': 'This is living room. TV is still on.'}\n",
      "{'name': 'Bedroom', 'description': 'This is bedroom. Bed looks messy.'}\n",
      "{'name': 'Bathroom', 'description': 'This is bathroom.'}\n",
      "{'name': 'Garage', 'description': 'This is garage.'}\n",
      "{'name': 'Laundry', 'description': 'This is laudry room.'}\n",
      "{'name': 'Pantry', 'description': 'This is pantry.'}\n",
      "{'name': 'Library', 'description': 'This is library.'}\n"
     ]
    }
   ],
   "source": [
    "for key in rooms:\n",
    "    print(key)"
   ]
  },
  {
   "cell_type": "code",
   "execution_count": null,
   "id": "intellectual-consolidation",
   "metadata": {},
   "outputs": [],
   "source": []
  }
 ],
 "metadata": {
  "kernelspec": {
   "display_name": "Python 3",
   "language": "python",
   "name": "python3"
  },
  "language_info": {
   "codemirror_mode": {
    "name": "ipython",
    "version": 3
   },
   "file_extension": ".py",
   "mimetype": "text/x-python",
   "name": "python",
   "nbconvert_exporter": "python",
   "pygments_lexer": "ipython3",
   "version": "3.7.9"
  }
 },
 "nbformat": 4,
 "nbformat_minor": 5
}
