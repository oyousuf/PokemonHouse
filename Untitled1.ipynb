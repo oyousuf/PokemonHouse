{
 "cells": [
  {
   "cell_type": "code",
   "execution_count": null,
   "id": "whole-steering",
   "metadata": {},
   "outputs": [],
   "source": []
  },
  {
   "cell_type": "code",
   "execution_count": 1,
   "id": "modified-jungle",
   "metadata": {},
   "outputs": [],
   "source": [
    "import yaml\n",
    "\n",
    "\n",
    "class ParseConfig:\n",
    "    rooms = []\n",
    "    doors = []\n",
    "    items = []\n",
    "    start_p = []\n",
    "#     def __init__(self, rooms=None, doors=None, items=None, start_p=None):\n",
    "#         self.rooms = rooms\n",
    "#         self.doors = doors\n",
    "#         self.items = items\n",
    "#         self.start_p = start_p\n",
    "    @classmethod\n",
    "    def yaml_open(cls):\n",
    "        with open('config.yaml') as f:\n",
    "            conf = yaml.load_all(f, Loader=yaml.FullLoader)\n",
    "            conf = list(conf)\n",
    "\n",
    "        cls.rooms = conf[0]['Rooms']\n",
    "        cls.doors = conf[1]['Doors']\n",
    "        cls.items = conf[2]['Items']\n",
    "        cls.start_p = conf[3]['Starting_position']\n",
    "        \n",
    "    def add_room(self):\n",
    "        if self.rooms:\n",
    "            for i in self.rooms:\n",
    "                Room(i['name'], i['description'])\n",
    "            "
   ]
  },
  {
   "cell_type": "code",
   "execution_count": 2,
   "id": "incident-dressing",
   "metadata": {},
   "outputs": [
    {
     "data": {
      "text/plain": [
       "[{'name': 'key',\n",
       "  'description': 'This is a key to open a door.',\n",
       "  'place': 'Living_room',\n",
       "  'usage': 'USE',\n",
       "  'action': 'unlock'},\n",
       " {'name': 'carpet',\n",
       "  'description': 'This is a carpet. There is something under the carpet.',\n",
       "  'place': 'Living_room',\n",
       "  'usage': 'MOVE',\n",
       "  'action': 'None'}]"
      ]
     },
     "execution_count": 2,
     "metadata": {},
     "output_type": "execute_result"
    }
   ],
   "source": [
    "ParseConfig.yaml_open()\n",
    "# ParseConfig.doors\n",
    "# ParseConfig.rooms\n",
    "ParseConfig.items\n",
    "# ParseConfig.start_p"
   ]
  },
  {
   "cell_type": "code",
   "execution_count": 3,
   "id": "previous-rhythm",
   "metadata": {},
   "outputs": [],
   "source": [
    "COMMANDS = {'up','up1','up2','down','left','right', 'move', 'use', 'open', 'close', 'inventory', 'help'}"
   ]
  },
  {
   "cell_type": "code",
   "execution_count": 4,
   "id": "orange-shooting",
   "metadata": {},
   "outputs": [],
   "source": [
    "class Player:\n",
    "\n",
    "    def __init__(self, name = 'Jiwoo', inventory=[], location=ParseConfig.start_p[0]['place']):\n",
    "        self.name = name\n",
    "        self.inventory = inventory \n",
    "        self.location = location\n",
    "\n",
    "        \n",
    "    @property\n",
    "    \n",
    "    def location(self): \n",
    "        return self.location \n",
    "    \n",
    "    @location.setter\n",
    "    \n",
    "    def location(self, room):\n",
    "        self.location = room\n",
    "    \n",
    "\n",
    "    def add_inventory(self, item):\n",
    "        self.inventory.append(item)\n",
    "        return self.inventory\n",
    "    \n",
    "    def inventory(self):\n",
    "        if self.inventory:\n",
    "            print(f\"You have {self.inventory[0]}. You may enter any room with this key. \")\n",
    "        else:\n",
    "            print(\"You have nothing. Try to find a key in the house!\")\n",
    "\n",
    "    def current_location(self):\n",
    "        print(f'You are in a {self.location}.')\n",
    "        \n",
    "\n",
    "class Item(Player):\n",
    "    def __init__(self, name=None, description=None, location=None, **kwargs):\n",
    "        self.name = name\n",
    "        self.description = description\n",
    "        self.location = location\n",
    "        self.fixed = False\n",
    "        self.openable = False\n",
    "        self.unlockable = False\n",
    "\n",
    "    def get_item(self, name):\n",
    "        for item in ParseConfig.items:\n",
    "            if item['name'] == name:\n",
    "                if item['usage'] == 'MOVE':\n",
    "                    item_object = Item(item['name'], item['description'], item['place'], openable=True)\n",
    "                   \n",
    "                elif item['usage'] == 'USE' and item['action'] == 'unlock':\n",
    "                    item_object = Item(item['name'], item['description'], item['place'], fixed=False, openable=False, unlockable=True)\n",
    "                    a = Player()\n",
    "                    a.add_inventory(item['name'])\n",
    "        return item_object\n",
    "    \n",
    "    \n",
    "    def move(self):\n",
    "        if self.fixed:\n",
    "            print(\"You can't move it.\")\n",
    "        else:\n",
    "            print(\"You moved a carpet and there is a key.\")\n",
    "            \n",
    "\n",
    "class Room(Item):\n",
    "    def __init__(self, name='Bedroom', description='You are in a bedroom'):\n",
    "        self.name = name\n",
    "        self.description = description\n",
    "        \n",
    "    def get_room(self, r):\n",
    "        for room in ParseConfig.rooms:\n",
    "            if room['name'] == r:\n",
    "                room_object = Room(room['name'], room['description'])\n",
    "\n",
    "        return room_object\n",
    "      \n",
    "        \n",
    "class Door(Room):\n",
    "    def __init__(self, id, _from, from_room, to, to_room, **kwargs):\n",
    "        self.id = id\n",
    "        self.from_ = from_\n",
    "        self.from_room = from_room\n",
    "        self.to = to\n",
    "        self.to_room = to\n",
    "        self.locked = False\n",
    "        self.closed = False\n",
    "        \n",
    "#     def get_door(self, direction):\n",
    "#         for door in ParseConfig.doors:\n",
    "#             if door['from_'] == direction:\n",
    "                \n",
    "            \n",
    "        \n",
    "    "
   ]
  },
  {
   "cell_type": "code",
   "execution_count": null,
   "id": "developmental-hamburg",
   "metadata": {},
   "outputs": [],
   "source": [
    "a = Item()\n",
    "b = a.get_item('key')\n",
    "\n",
    "a = Player()\n",
    "a.location"
   ]
  },
  {
   "cell_type": "code",
   "execution_count": null,
   "id": "academic-raleigh",
   "metadata": {},
   "outputs": [],
   "source": [
    "a=Room()\n",
    "a.get_room('Kitchen')"
   ]
  },
  {
   "cell_type": "code",
   "execution_count": null,
   "id": "killing-retail",
   "metadata": {},
   "outputs": [],
   "source": []
  }
 ],
 "metadata": {
  "kernelspec": {
   "display_name": "Python 3",
   "language": "python",
   "name": "python3"
  },
  "language_info": {
   "codemirror_mode": {
    "name": "ipython",
    "version": 3
   },
   "file_extension": ".py",
   "mimetype": "text/x-python",
   "name": "python",
   "nbconvert_exporter": "python",
   "pygments_lexer": "ipython3",
   "version": "3.7.9"
  }
 },
 "nbformat": 4,
 "nbformat_minor": 5
}
