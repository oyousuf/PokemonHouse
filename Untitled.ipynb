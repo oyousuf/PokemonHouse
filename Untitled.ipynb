{
 "cells": [
  {
   "cell_type": "code",
   "execution_count": 273,
   "id": "weighted-hours",
   "metadata": {},
   "outputs": [
    {
     "name": "stdout",
     "output_type": "stream",
     "text": [
      "Welcome\n",
      "\n",
      "This is bedroom. up1- library, up2 Hall right-Bathroom\n"
     ]
    },
    {
     "name": "stdin",
     "output_type": "stream",
     "text": [
      "(Cmd)  up1\n"
     ]
    },
    {
     "name": "stdout",
     "output_type": "stream",
     "text": [
      "\n",
      "This is library. right-hall\n"
     ]
    },
    {
     "name": "stdin",
     "output_type": "stream",
     "text": [
      "(Cmd)  right\n"
     ]
    },
    {
     "name": "stdout",
     "output_type": "stream",
     "text": [
      "\n",
      "Hall. right-kitchen, left-library, up-laundry\n"
     ]
    },
    {
     "name": "stdin",
     "output_type": "stream",
     "text": [
      "(Cmd)  up\n"
     ]
    },
    {
     "name": "stdout",
     "output_type": "stream",
     "text": [
      "\n",
      "This is laundry room. left-living, down-hall\n"
     ]
    },
    {
     "name": "stdin",
     "output_type": "stream",
     "text": [
      "(Cmd)  left\n"
     ]
    },
    {
     "name": "stdout",
     "output_type": "stream",
     "text": [
      "\n",
      "This is living room. right- laundry\n"
     ]
    },
    {
     "name": "stdin",
     "output_type": "stream",
     "text": [
      "(Cmd)  quit\n"
     ]
    },
    {
     "name": "stdout",
     "output_type": "stream",
     "text": [
      "Thank you for playing!\n"
     ]
    }
   ],
   "source": [
    "import cmd\n",
    "import yaml\n",
    "\n",
    "\n",
    "class ParseConfig:\n",
    "    rooms = []\n",
    "    doors = []\n",
    "    items = []\n",
    "    start_p = []\n",
    "#     def __init__(self, rooms=None, doors=None, items=None, start_p=None):\n",
    "#         self.rooms = rooms\n",
    "#         self.doors = doors\n",
    "#         self.items = items\n",
    "#         self.start_p = start_p\n",
    "    @classmethod\n",
    "    def yaml_open(cls):\n",
    "        with open('config.yaml') as f:\n",
    "            conf = yaml.load_all(f, Loader=yaml.FullLoader)\n",
    "            conf = list(conf)\n",
    "\n",
    "        cls.rooms = conf[0]['Rooms']\n",
    "        cls.doors = conf[1]['Doors']\n",
    "        cls.items = conf[2]['Items']\n",
    "        cls.start_p = conf[3]['Starting_position']\n",
    "        \n",
    "    def add_room(self):\n",
    "        if self.rooms:\n",
    "            for i in self.rooms:\n",
    "                Room(i['name'], i['description'])\n",
    "            \n",
    "\n",
    "class Room:\n",
    "    def __init__(self, name=\"Bedroom\", description=\"This is a bedroom.\"):\n",
    "        self.name = name\n",
    "        self.description = description\n",
    "        \n",
    "        \n",
    "    def exit(self, direction):\n",
    "        \n",
    "        for i in ParseConfig.doors:\n",
    "            if i['from_room'] == self.name and i['_from'] == direction:\n",
    "                return i['to_room']\n",
    "        else:\n",
    "            return None\n",
    "        \n",
    "    def get_room(self, newroom):\n",
    "        for i in ParseConfig.rooms:\n",
    "            if i['name'] == newroom:\n",
    "                a = Room(i['name'], i['description'])\n",
    "        return a\n",
    "\n",
    "    def up(self):\n",
    "        return self.exit('up')\n",
    "\n",
    "    def down(self):\n",
    "        return self.exit('down')\n",
    "\n",
    "    def left(self):\n",
    "        return self.exit('left')\n",
    "\n",
    "    def right(self):\n",
    "        return self.exit('right')\n",
    "\n",
    "\n",
    "class Door:\n",
    "    def __init__(self, name, _from, from_room, to, to_room, state):\n",
    "        self.name = name\n",
    "        self._from = _from\n",
    "        self.from_room = from_room\n",
    "        self.to = to\n",
    "        self.to_room = to_room\n",
    "        self.state = state\n",
    "        \n",
    "        \n",
    "#     def open_door(self, room)\n",
    "          \n",
    "class Game(cmd.Cmd):\n",
    "    def __init__(self):\n",
    "        cmd.Cmd.__init__(self)\n",
    "        print(\"Welcome\")\n",
    "        self.loc = Room.get_room(self, ParseConfig.start_p[0]['place'])\n",
    "        self.look()\n",
    "\n",
    "    def move(self, dir):\n",
    "        newroom = self.loc.exit(dir)\n",
    "        #print(f'newroom is {newroom}')\n",
    "        if newroom is None:\n",
    "            print(\"You can't go that way. Try another direction.\")\n",
    "        else:\n",
    "            self.loc = Room.get_room(self,newroom)\n",
    "            self.look()\n",
    "            \n",
    "    def look(self):\n",
    "        #print(self.loc.name)\n",
    "        print(\"\")\n",
    "        print(self.loc.description)\n",
    "\n",
    "    def do_up1(self, args):\n",
    "        self.move('up1')\n",
    "    \n",
    "    def do_up2(self, args):\n",
    "        self.move('up2')    \n",
    "    \n",
    "    def do_up(self, args):\n",
    "        self.move('up')\n",
    "    \n",
    "    def do_down(self, args):\n",
    "        self.move('down')\n",
    "\n",
    "    def do_left(self, args):\n",
    "        self.move('left')\n",
    "\n",
    "    def do_right(self, args):\n",
    "        self.move('right')\n",
    "        \n",
    "    def do_quit(self, args):\n",
    "        print(\"Thank you for playing!\")\n",
    "        return True\n",
    "    \n",
    "if __name__ == \"__main__\":\n",
    "    parse = ParseConfig()\n",
    "    parse.yaml_open()\n",
    "    #parse.add_room()\n",
    "\n",
    "    g = Game()\n",
    "    g.cmdloop()\n"
   ]
  },
  {
   "cell_type": "code",
   "execution_count": 257,
   "id": "circular-fortune",
   "metadata": {},
   "outputs": [
    {
     "data": {
      "text/plain": [
       "'Bedroom'"
      ]
     },
     "execution_count": 257,
     "metadata": {},
     "output_type": "execute_result"
    }
   ],
   "source": [
    "ParseConfig.start_p[0]['place']"
   ]
  },
  {
   "cell_type": "code",
   "execution_count": 175,
   "id": "pleasant-tennessee",
   "metadata": {},
   "outputs": [
    {
     "data": {
      "text/plain": [
       "mappingproxy({'__module__': '__main__',\n",
       "              '__init__': <function __main__.Room.__init__(self, name='Bedroom', description='This is a bedroom.')>,\n",
       "              'add_room': <function __main__.Room.add_room(self)>,\n",
       "              '__doc__': None})"
      ]
     },
     "execution_count": 175,
     "metadata": {},
     "output_type": "execute_result"
    }
   ],
   "source": [
    "Room.__dict__"
   ]
  },
  {
   "cell_type": "code",
   "execution_count": null,
   "id": "imported-singles",
   "metadata": {},
   "outputs": [],
   "source": [
    "a= ParseConfig()\n",
    "a.yaml_open()\n"
   ]
  },
  {
   "cell_type": "code",
   "execution_count": 196,
   "id": "prospective-manhattan",
   "metadata": {},
   "outputs": [
    {
     "data": {
      "text/plain": [
       "[{'name': 'Door1',\n",
       "  '_from': 'up1',\n",
       "  'to': 'down',\n",
       "  'state': 'closed',\n",
       "  'from_room': 'Bedroom',\n",
       "  'to_room': 'Library'},\n",
       " {'name': 'Door2',\n",
       "  '_from': 'down',\n",
       "  'to': 'up1',\n",
       "  'state': 'closed',\n",
       "  'from_room': 'Library',\n",
       "  'to_room': 'Bedroom'}]"
      ]
     },
     "execution_count": 196,
     "metadata": {},
     "output_type": "execute_result"
    }
   ],
   "source": [
    "a.doors"
   ]
  },
  {
   "cell_type": "code",
   "execution_count": 190,
   "id": "naval-robertson",
   "metadata": {},
   "outputs": [
    {
     "data": {
      "text/plain": [
       "[{'name': 'Hall', 'description': 'This is main Hall.'},\n",
       " {'name': 'Kitchen',\n",
       "  'description': 'This is Kitchen. Easter Eggs are on the table.'},\n",
       " {'name': 'Living_room',\n",
       "  'description': 'This is living room. TV is still on.'},\n",
       " {'name': 'Bedroom', 'description': 'This is bedroom. Bed looks messy.'},\n",
       " {'name': 'Bathroom', 'description': 'This is bathroom.'},\n",
       " {'name': 'Garage', 'description': 'This is garage.'},\n",
       " {'name': 'Laundry', 'description': 'This is laudry room.'},\n",
       " {'name': 'Pantry', 'description': 'This is pantry.'},\n",
       " {'name': 'Library', 'description': 'This is library.'}]"
      ]
     },
     "execution_count": 190,
     "metadata": {},
     "output_type": "execute_result"
    }
   ],
   "source": [
    "a.rooms"
   ]
  },
  {
   "cell_type": "code",
   "execution_count": 129,
   "id": "normal-permission",
   "metadata": {},
   "outputs": [],
   "source": [
    "import yaml \n",
    "with open('config.yaml') as f:\n",
    "    conf = yaml.load_all(f, Loader=yaml.FullLoader)\n",
    "    conf = list(conf)\n",
    "\n",
    "rooms = conf[0]['Rooms']\n",
    "doors = conf[1]['Doors']\n",
    "items = conf[2]['Items']\n",
    "start_p = conf[3]['Starting_position']\n",
    "    \n"
   ]
  },
  {
   "cell_type": "code",
   "execution_count": 137,
   "id": "forced-skating",
   "metadata": {},
   "outputs": [
    {
     "name": "stdout",
     "output_type": "stream",
     "text": [
      "{'name': 'Bedroom', 'description': 'This is bedroom. Bed looks messy.'}\n"
     ]
    }
   ],
   "source": [
    "for i in rooms:\n",
    "    if i['name'] == start_p[0]['place']:\n",
    "        print(i)"
   ]
  },
  {
   "cell_type": "code",
   "execution_count": 121,
   "id": "artificial-american",
   "metadata": {},
   "outputs": [
    {
     "data": {
      "text/plain": [
       "'Kitchen'"
      ]
     },
     "execution_count": 121,
     "metadata": {},
     "output_type": "execute_result"
    }
   ],
   "source": [
    "conf[0]['Rooms'][1]"
   ]
  },
  {
   "cell_type": "code",
   "execution_count": 54,
   "id": "suspended-russia",
   "metadata": {},
   "outputs": [],
   "source": [
    "\n",
    "with open(\"house_description.txt\") as file:\n",
    "    rooms = []\n",
    "    doors = []\n",
    "    items = []\n",
    "    starting_point = ''\n",
    "    for line in file:\n",
    "            line = line.partition('#')[0]\n",
    "            line = line.rstrip()\n",
    "            line = line.split(' ')\n",
    "            if line[0] == 'room':\n",
    "                rooms.append(line[1])\n",
    "                rooms.append(\" \".join(line[2:]))\n",
    "                #rooms.append(Rooms(line[1]))\n",
    "            if line[0] == 'door':\n",
    "                #line[1] = line[1].split('-')\n",
    "                doors.append(line[1:])\n",
    "            if line[0] == 'item':\n",
    "                items.append(line[1:])\n",
    "            if line[0] == 'start':\n",
    "                starting_point = line[1]\n"
   ]
  },
  {
   "cell_type": "code",
   "execution_count": 56,
   "id": "obvious-prediction",
   "metadata": {},
   "outputs": [],
   "source": []
  },
  {
   "cell_type": "code",
   "execution_count": 205,
   "id": "graduate-transportation",
   "metadata": {},
   "outputs": [],
   "source": [
    "import sys\n",
    "import yaml"
   ]
  },
  {
   "cell_type": "code",
   "execution_count": 210,
   "id": "certified-dryer",
   "metadata": {},
   "outputs": [],
   "source": [
    "class Rooms:\n",
    "    def __init__(self, name=None, description=None):\n",
    "        self.name = name\n",
    "        self.description = description"
   ]
  },
  {
   "cell_type": "code",
   "execution_count": 212,
   "id": "wound-diesel",
   "metadata": {},
   "outputs": [],
   "source": [
    "import yaml \n",
    "with open('config.yaml') as f:\n",
    "    conf = yaml.load_all(f, Loader=yaml.FullLoader)\n",
    "    conf = list(conf)\n",
    "\n",
    "rooms = conf[0]['Rooms']\n",
    "doors = conf[1]['Doors']\n",
    "items = conf[2]['Items']\n",
    "start_p = conf[3]['Starting_position']\n"
   ]
  },
  {
   "cell_type": "code",
   "execution_count": 214,
   "id": "earned-greene",
   "metadata": {},
   "outputs": [
    {
     "name": "stdout",
     "output_type": "stream",
     "text": [
      "{'name': 'Hall', 'description': 'This is main Hall.'}\n",
      "{'name': 'Kitchen', 'description': 'This is Kitchen. Easter Eggs are on the table.'}\n",
      "{'name': 'Living_room', 'description': 'This is living room. TV is still on.'}\n",
      "{'name': 'Bedroom', 'description': 'This is bedroom. Bed looks messy.'}\n",
      "{'name': 'Bathroom', 'description': 'This is bathroom.'}\n",
      "{'name': 'Garage', 'description': 'This is garage.'}\n",
      "{'name': 'Laundry', 'description': 'This is laudry room.'}\n",
      "{'name': 'Pantry', 'description': 'This is pantry.'}\n",
      "{'name': 'Library', 'description': 'This is library.'}\n"
     ]
    }
   ],
   "source": [
    "for key in rooms:\n",
    "    print(key)"
   ]
  },
  {
   "cell_type": "code",
   "execution_count": null,
   "id": "basic-passion",
   "metadata": {},
   "outputs": [],
   "source": []
  }
 ],
 "metadata": {
  "kernelspec": {
   "display_name": "Python 3",
   "language": "python",
   "name": "python3"
  },
  "language_info": {
   "codemirror_mode": {
    "name": "ipython",
    "version": 3
   },
   "file_extension": ".py",
   "mimetype": "text/x-python",
   "name": "python",
   "nbconvert_exporter": "python",
   "pygments_lexer": "ipython3",
   "version": "3.7.9"
  }
 },
 "nbformat": 4,
 "nbformat_minor": 5
}
